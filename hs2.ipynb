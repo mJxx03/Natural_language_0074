{
 "cells": [
  {
   "cell_type": "markdown",
   "id": "d74e52fe-53bc-4841-b0cd-d31bc8335c91",
   "metadata": {},
   "source": [
    "## HANDS ON SESSION 2"
   ]
  },
  {
   "cell_type": "code",
   "execution_count": 1,
   "id": "4e3a56ab-5106-43d6-aac2-56d58dae3bdd",
   "metadata": {},
   "outputs": [],
   "source": [
    "import nltk"
   ]
  },
  {
   "cell_type": "code",
   "execution_count": 2,
   "id": "6fcbdd62-fcfe-410b-ab9e-fb1ba11e79ac",
   "metadata": {},
   "outputs": [],
   "source": [
    "text1=\"Natural language processing (NLP) is a branch of artificial intelligence (AI) that enables computers to comprehend, generate, and manipulate human language\""
   ]
  },
  {
   "cell_type": "code",
   "execution_count": 3,
   "id": "c7a72f6e-7afe-4dbb-9b38-ebd1a2907daf",
   "metadata": {},
   "outputs": [],
   "source": [
    "fd=nltk.FreqDist(text1.split())"
   ]
  },
  {
   "cell_type": "code",
   "execution_count": 4,
   "id": "17beede3-8f5c-494a-86bb-a65a41e07f6f",
   "metadata": {},
   "outputs": [
    {
     "data": {
      "text/plain": [
       "FreqDist({'language': 2, 'Natural': 1, 'processing': 1, '(NLP)': 1, 'is': 1, 'a': 1, 'branch': 1, 'of': 1, 'artificial': 1, 'intelligence': 1, ...})"
      ]
     },
     "execution_count": 4,
     "metadata": {},
     "output_type": "execute_result"
    }
   ],
   "source": [
    "fd"
   ]
  },
  {
   "cell_type": "code",
   "execution_count": 5,
   "id": "c85601e0-aa39-4dbc-897a-c993c1c3e2c3",
   "metadata": {},
   "outputs": [
    {
     "data": {
      "text/plain": [
       "['Natural',\n",
       " 'language',\n",
       " 'processing',\n",
       " '(NLP)',\n",
       " 'is',\n",
       " 'a',\n",
       " 'branch',\n",
       " 'of',\n",
       " 'artificial',\n",
       " 'intelligence',\n",
       " '(AI)',\n",
       " 'that',\n",
       " 'enables',\n",
       " 'computers',\n",
       " 'to',\n",
       " 'comprehend,',\n",
       " 'generate,',\n",
       " 'and',\n",
       " 'manipulate',\n",
       " 'human',\n",
       " 'language']"
      ]
     },
     "execution_count": 5,
     "metadata": {},
     "output_type": "execute_result"
    }
   ],
   "source": [
    "text1.split()"
   ]
  },
  {
   "cell_type": "code",
   "execution_count": 7,
   "id": "3547dde4-5ffd-41b7-8c54-0a794630576d",
   "metadata": {},
   "outputs": [],
   "source": [
    "text2=inaugural.words(fileids='1861-Lincoln.txt')[1000:2000]"
   ]
  },
  {
   "cell_type": "code",
   "execution_count": 8,
   "id": "33c4c300-4ada-400a-b6a7-b2883c44d31b",
   "metadata": {},
   "outputs": [
    {
     "data": {
      "text/plain": [
       "FreqDist({'the': 70, ',': 51, 'of': 38, 'to': 32, 'and': 30, '.': 24, 'be': 23, 'in': 19, 'Union': 16, 'it': 16, ...})"
      ]
     },
     "execution_count": 8,
     "metadata": {},
     "output_type": "execute_result"
    }
   ],
   "source": [
    "nltk.FreqDist(text2)"
   ]
  },
  {
   "cell_type": "code",
   "execution_count": 10,
   "id": "f7be0919-f175-49d2-8cef-24f8a4d67fbe",
   "metadata": {},
   "outputs": [],
   "source": [
    "from nltk.probability import ConditionalFreqDist\n",
    "cfd=ConditionalFreqDist((len(word),word)for word in text2)"
   ]
  },
  {
   "cell_type": "code",
   "execution_count": 11,
   "id": "bb919d56-0570-4ab3-b85a-ad3bd6053b32",
   "metadata": {},
   "outputs": [
    {
     "data": {
      "text/plain": [
       "FreqDist({'contemplation': 2, 'circumstances': 2, 'Confederation': 1, 'revolutionary': 1, 'authoritative': 1, 'impracticable': 1})"
      ]
     },
     "execution_count": 11,
     "metadata": {},
     "output_type": "execute_result"
    }
   ],
   "source": [
    "cfd[13]"
   ]
  },
  {
   "cell_type": "code",
   "execution_count": 12,
   "id": "664b7a56-d4c4-419d-a73d-5ce021794d31",
   "metadata": {},
   "outputs": [],
   "source": [
    "import jieba"
   ]
  },
  {
   "cell_type": "code",
   "execution_count": 13,
   "id": "2997d6f8-bbc3-4076-8b6c-34ddb9dd1032",
   "metadata": {},
   "outputs": [],
   "source": [
    "seg_list=jieba.cut(\"我怎么过去\",cut_all=True)"
   ]
  },
  {
   "cell_type": "code",
   "execution_count": 14,
   "id": "58cf8e22-03b4-44f5-be9f-ac992711f07e",
   "metadata": {},
   "outputs": [
    {
     "name": "stdout",
     "output_type": "stream",
     "text": [
      "<generator object Tokenizer.cut at 0x000001F9B7DDD2E0>\n"
     ]
    }
   ],
   "source": [
    "print(seg_list)"
   ]
  },
  {
   "cell_type": "code",
   "execution_count": 15,
   "id": "2f4b86b9-cae2-4366-af59-4b5202d919d3",
   "metadata": {},
   "outputs": [
    {
     "name": "stderr",
     "output_type": "stream",
     "text": [
      "Building prefix dict from the default dictionary ...\n",
      "Dumping model to file cache C:\\Users\\mathe\\AppData\\Local\\Temp\\jieba.cache\n",
      "Loading model cost 2.105 seconds.\n",
      "Prefix dict has been built successfully.\n"
     ]
    },
    {
     "name": "stdout",
     "output_type": "stream",
     "text": [
      "我,怎么,过去\n"
     ]
    }
   ],
   "source": [
    "print(\",\".join(seg_list))"
   ]
  },
  {
   "cell_type": "markdown",
   "id": "23bac9a5-09e4-4eff-ae37-87b5f369d614",
   "metadata": {},
   "source": [
    "splitted based on greedy segmentation algorithm"
   ]
  },
  {
   "cell_type": "markdown",
   "id": "a3119a1a-9719-4311-8f08-18b41730f3b1",
   "metadata": {},
   "source": [
    "##  Reckless word phoenitic"
   ]
  },
  {
   "cell_type": "markdown",
   "id": "2f4e3c84-02d9-4a21-b649-e6b87b7c13df",
   "metadata": {},
   "source": [
    "rek.ləs"
   ]
  }
 ],
 "metadata": {
  "kernelspec": {
   "display_name": "Python 3 (ipykernel)",
   "language": "python",
   "name": "python3"
  },
  "language_info": {
   "codemirror_mode": {
    "name": "ipython",
    "version": 3
   },
   "file_extension": ".py",
   "mimetype": "text/x-python",
   "name": "python",
   "nbconvert_exporter": "python",
   "pygments_lexer": "ipython3",
   "version": "3.9.7"
  }
 },
 "nbformat": 4,
 "nbformat_minor": 5
}
